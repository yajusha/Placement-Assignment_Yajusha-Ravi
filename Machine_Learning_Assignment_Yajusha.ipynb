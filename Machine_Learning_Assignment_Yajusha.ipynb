{
  "nbformat": 4,
  "nbformat_minor": 0,
  "metadata": {
    "colab": {
      "provenance": []
    },
    "kernelspec": {
      "name": "python3",
      "display_name": "Python 3"
    },
    "language_info": {
      "name": "python"
    }
  },
  "cells": [
    {
      "cell_type": "markdown",
      "source": [
        "Q-1. Imagine you have a dataset where you have different Instagram features\n",
        "like u sername , Caption , Hashtag , Followers , Time_Since_posted , and likes , now your task is\n",
        "to predict the number of likes and Time Since posted and the rest of the features are\n",
        "your input features. Now you have to build a model which can predict the\n",
        "number of likes and Time Since posted.\n",
        "Dataset This is the Dataset You can use this dataset for this question."
      ],
      "metadata": {
        "id": "SwDedHIvJzxi"
      }
    },
    {
      "cell_type": "code",
      "source": [
        "#Ans\n",
        "import pandas as pd\n",
        "from sklearn.model_selection import train_test_split\n",
        "from sklearn.preprocessing import OneHotEncoder\n",
        "from sklearn.compose import ColumnTransformer\n",
        "from sklearn.linear_model import LinearRegression\n",
        "from sklearn.metrics import mean_squared_error, r2_score\n",
        "\n",
        "data = pd.read_csv('instagram_reach.csv')\n",
        "#print(data)\n",
        "data = data.dropna()\n",
        "X = data[['USERNAME', 'Caption', 'Hashtags', 'Followers']]\n",
        "y_likes = data['Likes']\n",
        "y_time_since_posted = data['Time since posted']\n",
        "y_time_since_posted = y_time_since_posted.str.extract('(\\d+)', expand=False).astype(int)\n",
        "# Perform one-hot encoding on categorical features\n",
        "cat_features = ['USERNAME', 'Caption', 'Hashtags']\n",
        "preprocessor = ColumnTransformer([('onehot', OneHotEncoder(), cat_features)], remainder='passthrough')\n",
        "X_encoded = preprocessor.fit_transform(X)\n",
        "\n",
        "X_train, X_test, y_likes_train, y_likes_test, y_time_train, y_time_test = train_test_split(X_encoded, y_likes, y_time_since_posted, test_size=0.2, random_state=42)\n",
        "\n",
        "X_train, X_test, y_likes_train, y_likes_test, y_time_train, y_time_test = train_test_split(X_encoded, y_likes, y_time_since_posted, test_size=0.2, random_state=42)\n",
        "\n",
        "likes_model = LinearRegression()\n",
        "likes_model.fit(X_train, y_likes_train)\n",
        "\n",
        "likes_predictions = likes_model.predict(X_test)\n",
        "\n",
        "likes_mse = mean_squared_error(y_likes_test, likes_predictions)\n",
        "likes_r2 = r2_score(y_likes_test, likes_predictions)\n",
        "\n",
        "time_model = LinearRegression()\n",
        "time_model.fit(X_train, y_time_train)\n",
        "time_predictions = time_model.predict(X_test)\n",
        "\n",
        "time_mse = mean_squared_error(y_time_test, time_predictions)\n",
        "time_r2 = r2_score(y_time_test, time_predictions)\n",
        "\n",
        "print('Number of Likes - Evaluation Metrics:')\n",
        "print('Mean Squared Error:', likes_mse)\n",
        "print('R-squared Score:', likes_r2)\n",
        "\n",
        "print('\\nTime Since Posted - Evaluation Metrics:')\n",
        "print('Mean Squared Error:', time_mse)\n",
        "print('R-squared Score:', time_r2)"
      ],
      "metadata": {
        "colab": {
          "base_uri": "https://localhost:8080/"
        },
        "id": "ivd3R5-gJ9Gx",
        "outputId": "85763d0a-b0bd-43e7-c17b-8cbf7891bca8"
      },
      "execution_count": null,
      "outputs": [
        {
          "output_type": "stream",
          "name": "stdout",
          "text": [
            "Number of Likes - Evaluation Metrics:\n",
            "Mean Squared Error: 1869.9227081740576\n",
            "R-squared Score: -0.17150877041046186\n",
            "\n",
            "Time Since Posted - Evaluation Metrics:\n",
            "Mean Squared Error: 15.872217501887043\n",
            "R-squared Score: -0.3636055493053836\n"
          ]
        }
      ]
    },
    {
      "cell_type": "markdown",
      "source": [
        "Q-2. Imagine you have a dataset where you have different features like Age ,\n",
        "Gender , Height , Weight , BMI , and Blood Pressure and you have to classify the people into\n",
        "different classes like Normal , Overweight , Obesity , Underweight , and Extreme Obesity by using\n",
        "any 4 different classification algorithms. Now you have to build a model which\n",
        "can classify people into different classes.\n",
        "Dataset This is the Dataset You can use this dataset for this question."
      ],
      "metadata": {
        "id": "Kf957E_pKn87"
      }
    },
    {
      "cell_type": "code",
      "source": [
        "import pandas as pd\n",
        "from sklearn.model_selection import train_test_split\n",
        "from sklearn.preprocessing import StandardScaler\n",
        "from sklearn.metrics import classification_report\n",
        "from sklearn.tree import DecisionTreeClassifier\n",
        "from sklearn.neighbors import KNeighborsClassifier\n",
        "from sklearn.svm import SVC\n",
        "from sklearn.ensemble import RandomForestClassifier\n",
        "\n",
        "dataset = pd.read_csv('ObesityDataSet_raw_and_data_sinthetic.csv')\n",
        "\n",
        "X = dataset.drop('Class', axis=1)\n",
        "y = dataset['Class']\n",
        "\n",
        "X_train, X_test, y_train, y_test = train_test_split(X, y, test_size=0.2, random_state=42)\n",
        "\n",
        "scaler = StandardScaler()\n",
        "X_train = scaler.fit_transform(X_train)\n",
        "X_test = scaler.transform(X_test)\n",
        "\n",
        "# 1. Decision Tree Classifier\n",
        "dt_classifier = DecisionTreeClassifier()\n",
        "dt_classifier.fit(X_train, y_train)\n",
        "dt_predictions = dt_classifier.predict(X_test)\n",
        "print(\"Decision Tree Classifier:\")\n",
        "print(classification_report(y_test, dt_predictions))\n",
        "\n",
        "# 2. K-Nearest Neighbors (KNN) Classifier\n",
        "knn_classifier = KNeighborsClassifier()\n",
        "knn_classifier.fit(X_train, y_train)\n",
        "knn_predictions = knn_classifier.predict(X_test)\n",
        "print(\"K-Nearest Neighbors (KNN) Classifier:\")\n",
        "print(classification_report(y_test, knn_predictions))\n",
        "\n",
        "# 3. Support Vector Machine (SVM) Classifier\n",
        "svm_classifier = SVC()\n",
        "svm_classifier.fit(X_train, y_train)\n",
        "svm_predictions = svm_classifier.predict(X_test)\n",
        "print(\"Support Vector Machine (SVM) Classifier:\")\n",
        "print(classification_report(y_test, svm_predictions))\n",
        "\n",
        "# 4. Random Forest Classifier\n",
        "rf_classifier = RandomForestClassifier()\n",
        "rf_classifier.fit(X_train, y_train)\n",
        "rf_predictions = rf_classifier.predict(X_test)\n",
        "print(\"Random Forest Classifier:\")\n",
        "print(classification_report(y_test, rf_predictions))\n"
      ],
      "metadata": {
        "id": "o0AMNB68KsEC"
      },
      "execution_count": null,
      "outputs": []
    },
    {
      "cell_type": "markdown",
      "source": [
        "Q-3. Imagine you have a dataset where you have different categories of data, Now\n",
        "you need to find the most similar data to the given data by using any 4 different\n",
        "similarity algorithms. Now you have to build a model which can find the most similar\n",
        "data to the given data.\n",
        "Dataset This is the Dataset You can use this dataset for this question."
      ],
      "metadata": {
        "id": "3s-uAeaYKtHr"
      }
    },
    {
      "cell_type": "code",
      "source": [
        "pip install python-Levenshtein==0.12.0"
      ],
      "metadata": {
        "colab": {
          "base_uri": "https://localhost:8080/"
        },
        "id": "Dc28YdSGLc9G",
        "outputId": "479c3490-defd-465a-a53e-c99d2f276c86"
      },
      "execution_count": null,
      "outputs": [
        {
          "output_type": "stream",
          "name": "stdout",
          "text": [
            "Looking in indexes: https://pypi.org/simple, https://us-python.pkg.dev/colab-wheels/public/simple/\n",
            "Collecting python-Levenshtein==0.12.0\n",
            "  Downloading python-Levenshtein-0.12.0.tar.gz (48 kB)\n",
            "\u001b[2K     \u001b[90m━━━━━━━━━━━━━━━━━━━━━━━━━━━━━━━━━━━━━━━━\u001b[0m \u001b[32m48.6/48.6 kB\u001b[0m \u001b[31m5.5 MB/s\u001b[0m eta \u001b[36m0:00:00\u001b[0m\n",
            "\u001b[?25h  Preparing metadata (setup.py) ... \u001b[?25l\u001b[?25hdone\n",
            "Requirement already satisfied: setuptools in /usr/local/lib/python3.10/dist-packages (from python-Levenshtein==0.12.0) (67.7.2)\n",
            "\u001b[33mWARNING: The candidate selected for download or install is a yanked version: 'python-levenshtein' candidate (version 0.12.0 at https://files.pythonhosted.org/packages/42/a9/d1785c85ebf9b7dfacd08938dd028209c34a0ea3b1bcdb895208bd40a67d/python-Levenshtein-0.12.0.tar.gz (from https://pypi.org/simple/python-levenshtein/))\n",
            "Reason for being yanked: Insecure, upgrade to 0.12.1\u001b[0m\u001b[33m\n",
            "\u001b[0mBuilding wheels for collected packages: python-Levenshtein\n",
            "  Building wheel for python-Levenshtein (setup.py) ... \u001b[?25l\u001b[?25hdone\n",
            "  Created wheel for python-Levenshtein: filename=python_Levenshtein-0.12.0-cp310-cp310-linux_x86_64.whl size=165615 sha256=179e63eed6d1fb60c4eabd597129dfb6a9b53a304020f4cc999d83eeadb9d939\n",
            "  Stored in directory: /root/.cache/pip/wheels/64/9d/d4/b0f4b842be0e66baad0fdf1b91dd90b36b4135feefc8dfae55\n",
            "Successfully built python-Levenshtein\n",
            "Installing collected packages: python-Levenshtein\n",
            "Successfully installed python-Levenshtein-0.12.0\n"
          ]
        }
      ]
    },
    {
      "cell_type": "code",
      "source": [
        "import numpy as np\n",
        "from sklearn.feature_extraction.text import TfidfVectorizer\n",
        "from sklearn.metrics.pairwise import cosine_similarity\n",
        "from sklearn.metrics import jaccard_score\n",
        "from Levenshtein import distance as levenshtein_distance\n",
        "\n",
        "# Sample dataset\n",
        "dataset = [\n",
        "    {\n",
        "        \"link\": \"https://www.huffpost.com/entry/covid-boosters-uptake-us_n_632d719ee4b087fae6feaac9\",\n",
        "        \"headline\": \"Over 4 Million Americans Roll Up Sleeves For Omicron-Targeted COVID Boosters\",\n",
        "        \"category\": \"U.S. NEWS\",\n",
        "        \"short_description\": \"Health experts said it is too early to predict whether demand would match up with the 171 million doses of the new boosters the U.S. ordered for the fall.\",\n",
        "        \"authors\": \"Carla K. Johnson, AP\",\n",
        "        \"date\": \"2022-09-23\"\n",
        "    },\n",
        "    # Add more data points to the dataset\n",
        "]\n",
        "\n",
        "# Given data point for comparison\n",
        "given_data = {\n",
        "    \"link\": \"https://www.example.com\",\n",
        "    \"headline\": \"Example Headline\",\n",
        "    \"category\": \"EXAMPLE CATEGORY\",\n",
        "    \"short_description\": \"This is an example short description.\",\n",
        "    \"authors\": \"John Doe\",\n",
        "    \"date\": \"2023-05-01\"\n",
        "}\n",
        "\n",
        "# Transform dataset into a list of strings for vectorization\n",
        "dataset_strings = [f\"{data['link']} {data['headline']} {data['category']} {data['short_description']} {data['authors']} {data['date']}\" for data in dataset]\n",
        "\n",
        "# Vectorize the dataset strings\n",
        "vectorizer = TfidfVectorizer()\n",
        "tfidf_matrix = vectorizer.fit_transform(dataset_strings)\n",
        "\n",
        "# Vectorize the given data\n",
        "given_data_string = f\"{given_data['link']} {given_data['headline']} {given_data['category']} {given_data['short_description']} {given_data['authors']} {given_data['date']}\"\n",
        "given_data_vector = vectorizer.transform([given_data_string])\n",
        "\n",
        "# Calculate similarity using cosine similarity\n",
        "cosine_similarities = cosine_similarity(tfidf_matrix, given_data_vector)\n",
        "\n",
        "# Calculate similarity using Jaccard similarity\n",
        "jaccard_similarities = []\n",
        "for data_string in dataset_strings:\n",
        "    try:\n",
        "        jaccard_similarities.append(jaccard_score(set(given_data_string.split()), set(data_string.split())))\n",
        "    except ValueError:\n",
        "        jaccard_similarities.append(0.0)  # Assign a default similarity score in case of inconsistent data\n",
        "\n",
        "# Calculate similarity using Levenshtein distance\n",
        "levenshtein_distances = [levenshtein_distance(given_data_string, data_string) for data_string in dataset_strings]\n",
        "\n",
        "# Calculate similarity using Euclidean distance\n",
        "euclidean_distances = np.linalg.norm(tfidf_matrix - given_data_vector.toarray(), axis=1)\n",
        "\n",
        "# Find the most similar data point using each similarity measure\n",
        "most_similar_cosine = dataset[np.argmax(cosine_similarities)]\n",
        "most_similar_jaccard = dataset[np.argmax(jaccard_similarities)]\n",
        "most_similar_levenshtein = dataset[np.argmin(levenshtein_distances)]\n",
        "most_similar_euclidean = dataset[np.argmin(euclidean_distances)]\n",
        "\n",
        "# Print the most similar data points\n",
        "print(\"Most similar data point (Cosine Similarity):\")\n",
        "print(most_similar_cosine)\n",
        "print(\"\\nMost similar data point (Jaccard Similarity):\")\n",
        "print(most_similar_jaccard)\n",
        "print(\"\\nMost similar data point (Levenshtein Distance):\")\n",
        "print(most_similar_levenshtein)\n",
        "print(\"\\nMost similar data point (Euclidean Distance):\")\n",
        "print(most_similar_euclidean)"
      ],
      "metadata": {
        "colab": {
          "base_uri": "https://localhost:8080/"
        },
        "id": "OZiBjtGZKxYO",
        "outputId": "666e2561-28fd-4dee-9a56-9a6f26331aa6"
      },
      "execution_count": null,
      "outputs": [
        {
          "output_type": "stream",
          "name": "stdout",
          "text": [
            "Most similar data point (Cosine Similarity):\n",
            "{'link': 'https://www.huffpost.com/entry/covid-boosters-uptake-us_n_632d719ee4b087fae6feaac9', 'headline': 'Over 4 Million Americans Roll Up Sleeves For Omicron-Targeted COVID Boosters', 'category': 'U.S. NEWS', 'short_description': 'Health experts said it is too early to predict whether demand would match up with the 171 million doses of the new boosters the U.S. ordered for the fall.', 'authors': 'Carla K. Johnson, AP', 'date': '2022-09-23'}\n",
            "\n",
            "Most similar data point (Jaccard Similarity):\n",
            "{'link': 'https://www.huffpost.com/entry/covid-boosters-uptake-us_n_632d719ee4b087fae6feaac9', 'headline': 'Over 4 Million Americans Roll Up Sleeves For Omicron-Targeted COVID Boosters', 'category': 'U.S. NEWS', 'short_description': 'Health experts said it is too early to predict whether demand would match up with the 171 million doses of the new boosters the U.S. ordered for the fall.', 'authors': 'Carla K. Johnson, AP', 'date': '2022-09-23'}\n",
            "\n",
            "Most similar data point (Levenshtein Distance):\n",
            "{'link': 'https://www.huffpost.com/entry/covid-boosters-uptake-us_n_632d719ee4b087fae6feaac9', 'headline': 'Over 4 Million Americans Roll Up Sleeves For Omicron-Targeted COVID Boosters', 'category': 'U.S. NEWS', 'short_description': 'Health experts said it is too early to predict whether demand would match up with the 171 million doses of the new boosters the U.S. ordered for the fall.', 'authors': 'Carla K. Johnson, AP', 'date': '2022-09-23'}\n",
            "\n",
            "Most similar data point (Euclidean Distance):\n",
            "{'link': 'https://www.huffpost.com/entry/covid-boosters-uptake-us_n_632d719ee4b087fae6feaac9', 'headline': 'Over 4 Million Americans Roll Up Sleeves For Omicron-Targeted COVID Boosters', 'category': 'U.S. NEWS', 'short_description': 'Health experts said it is too early to predict whether demand would match up with the 171 million doses of the new boosters the U.S. ordered for the fall.', 'authors': 'Carla K. Johnson, AP', 'date': '2022-09-23'}\n"
          ]
        }
      ]
    },
    {
      "cell_type": "markdown",
      "source": [
        "Q-4. Imagine you working as a sale manager now you need to predict the Revenue\n",
        "and whether that particular revenue is on the weekend or not and find the\n",
        "Informational_Duration using the Ensemble learning algorithm\n",
        "Dataset This is the Dataset You can use this dataset for this question."
      ],
      "metadata": {
        "id": "tMOG1OCMMbH7"
      }
    },
    {
      "cell_type": "code",
      "source": [
        "import pandas as pd\n",
        "from sklearn.model_selection import train_test_split\n",
        "from sklearn.ensemble import RandomForestClassifier\n",
        "from sklearn.metrics import accuracy_score\n",
        "from sklearn.preprocessing import OneHotEncoder\n",
        "from sklearn.impute import SimpleImputer\n",
        "\n",
        "# Load the dataset\n",
        "url = 'https://archive.ics.uci.edu/ml/machine-learning-databases/00468/online_shoppers_intention.csv'\n",
        "data = pd.read_csv(url)\n",
        "#print(data)\n",
        "data = data.dropna()\n",
        "\n",
        "# Preprocess the dataset\n",
        "data['Revenue'] = data['Revenue'].map({'TRUE': 1, 'FALSE': 0})\n",
        "data['Weekend'] = data['Weekend'].astype(int)\n",
        "\n",
        "# Split the dataset into features and target variable\n",
        "X = data.drop(['Revenue'], axis=1)\n",
        "y = data['Revenue']\n",
        "\n",
        "# Perform one-hot encoding on categorical features\n",
        "cat_features = ['Month', 'VisitorType']\n",
        "X_encoded = pd.get_dummies(X, columns=cat_features)\n",
        "\n",
        "# Handle missing values in the dataset\n",
        "imputer = SimpleImputer(strategy='mean')\n",
        "X_imputed = imputer.fit_transform(X_encoded)\n",
        "\n",
        "# Split the data into training and testing sets\n",
        "X_train, X_test, y_train, y_test = train_test_split(X_imputed, y, test_size=0.2, random_state=42)\n",
        "\n",
        "# Create the ensemble of decision tree classifiers (Random Forest)\n",
        "n_estimators = 100\n",
        "random_state = 42\n",
        "clf = RandomForestClassifier(n_estimators=n_estimators, random_state=random_state)\n",
        "\n",
        "# Train the ensemble model\n",
        "clf.fit(X_train, y_train)\n",
        "\n",
        "# Predict revenue and weekend for the test set\n",
        "y_pred = clf.predict(X_test)\n",
        "weekend_pred = clf.predict(X_test[:, X_encoded.columns.get_loc('Weekend')])\n",
        "\n",
        "# Calculate the accuracy of the model\n",
        "accuracy = accuracy_score(y_test, y_pred)\n",
        "print('Accuracy:', accuracy)\n",
        "\n",
        "# Print predicted revenue and weekend for the first 10 samples in the test set\n",
        "print('Predicted Revenue  |  Predicted Weekend')\n",
        "for i in range(10):\n",
        "    print('{:<18} | {}'.format(y_pred[i], weekend_pred[i]))\n",
        "\n",
        "# Calculate Informational_Duration for the test set\n",
        "informational_duration = X_test[:, X_encoded.columns.get_loc('Informational_Duration')]\n",
        "print('Informational Duration:', informational_duration)\n"
      ],
      "metadata": {
        "id": "PSuMfH4uLMRV"
      },
      "execution_count": null,
      "outputs": []
    },
    {
      "cell_type": "markdown",
      "source": [
        "Q-5. Uber is a taxi service provider as we know, we need to predict the high\n",
        "booking area using an Unsupervised algorithm and price for the location using a\n",
        "supervised algorithm and use some map function to display the data\n",
        "Dataset This is the Dataset You can use this dataset for this question."
      ],
      "metadata": {
        "id": "YmHGYP6VPpdj"
      }
    },
    {
      "cell_type": "code",
      "source": [
        "import pandas as pd\n",
        "import numpy as np\n",
        "from sklearn.cluster import KMeans\n",
        "from sklearn.linear_model import LinearRegression\n",
        "import folium\n",
        "from folium.plugins import HeatMap\n",
        "\n",
        "data = pd.read_csv('rideshare.csv')\n",
        "data.dropna(inplace=True)\n",
        "print(data.head())\n",
        "\n",
        "X = data[['latitude', 'longitude']]\n",
        "\n",
        "wcss = []\n",
        "for i in range(1, 11):\n",
        "    kmeans = KMeans(n_clusters=i, init='k-means++', random_state=42)\n",
        "    kmeans.fit(X)\n",
        "    wcss.append(kmeans.inertia_)\n",
        "\n",
        "import matplotlib.pyplot as plt\n",
        "plt.plot(range(1, 11), wcss)\n",
        "plt.title('Elbow Curve')\n",
        "plt.xlabel('Number of Clusters')\n",
        "plt.ylabel('WCSS')\n",
        "plt.show()\n",
        "\n",
        "n_clusters = int(input(\"Enter the optimal number of clusters: \"))\n",
        "\n",
        "kmeans = KMeans(n_clusters=n_clusters, init='k-means++', random_state=42)\n",
        "kmeans.fit(X)\n",
        "\n",
        "data['cluster_label'] = kmeans.labels_\n",
        "\n",
        "X_regression = data[['latitude', 'longitude']]\n",
        "y_regression = data['price']\n",
        "\n",
        "regression_model = LinearRegression()\n",
        "regression_model.fit(X_regression, y_regression)\n",
        "\n",
        "data['predicted_price'] = regression_model.predict(X_regression)\n",
        "\n",
        "map_obj = folium.Map(location=[data['latitude'].iloc[0], data['longitude'].iloc[0]], zoom_start=12)\n",
        "\n",
        "for index, row in data.iterrows():\n",
        "    if row['cluster_label'] == 1: \n",
        "        folium.Marker(location=[row['latitude'], row['longitude']], icon=folium.Icon(color='red')).add_to(map_obj)\n",
        "\n",
        "heatmap_data = data[['latitude', 'longitude', 'predicted_price']]\n",
        "heatmap_data = heatmap_data.dropna()\n",
        "heatmap_points = heatmap_data[['latitude', 'longitude', 'predicted_price']].values\n",
        "HeatMap(heatmap_points).add_to(map_obj)\n",
        "\n",
        "map_obj.save('map.html')"
      ],
      "metadata": {
        "colab": {
          "base_uri": "https://localhost:8080/",
          "height": 1000
        },
        "id": "65IiXtPHPqci",
        "outputId": "8b219a0f-6c42-4f42-8f30-ad759092854f"
      },
      "execution_count": null,
      "outputs": [
        {
          "output_type": "stream",
          "name": "stdout",
          "text": [
            "                                     id   timestamp  hour  day  month  \\\n",
            "0  424553bb-7174-41ea-aeb4-fe06d4f4b9d7  1544952608     9   16     12   \n",
            "1  4bd23055-6827-41c6-b23b-3c491f24e74d  1543284024     2   27     11   \n",
            "2  981a3613-77af-4620-a42a-0c0866077d1e  1543366822     1   28     11   \n",
            "3  c2d88af2-d278-4bfd-a8d0-29ca77cc5512  1543553583     4   30     11   \n",
            "4  e0126e1f-8ca9-4f2e-82b3-50505a09db9a  1543463360     3   29     11   \n",
            "\n",
            "           datetime          timezone            source    destination  \\\n",
            "0  16-12-2018 09:30  America/New_York  Haymarket Square  North Station   \n",
            "1  27-11-2018 02:00  America/New_York  Haymarket Square  North Station   \n",
            "2  28-11-2018 01:00  America/New_York  Haymarket Square  North Station   \n",
            "3  30-11-2018 04:53  America/New_York  Haymarket Square  North Station   \n",
            "4  29-11-2018 03:49  America/New_York  Haymarket Square  North Station   \n",
            "\n",
            "  cab_type  ... precipIntensityMax uvIndexTime  temperatureMin  \\\n",
            "0     Lyft  ...             0.1276  1544979600           39.89   \n",
            "1     Lyft  ...             0.1300  1543251600           40.49   \n",
            "2     Lyft  ...             0.1064  1543338000           35.36   \n",
            "3     Lyft  ...             0.0000  1543507200           34.67   \n",
            "4     Lyft  ...             0.0001  1543420800           33.10   \n",
            "\n",
            "   temperatureMinTime  temperatureMax  temperatureMaxTime  \\\n",
            "0          1545012000           43.68          1544968800   \n",
            "1          1543233600           47.30          1543251600   \n",
            "2          1543377600           47.55          1543320000   \n",
            "3          1543550400           45.03          1543510800   \n",
            "4          1543402800           42.18          1543420800   \n",
            "\n",
            "   apparentTemperatureMin  apparentTemperatureMinTime  apparentTemperatureMax  \\\n",
            "0                   33.73                  1545012000                   38.07   \n",
            "1                   36.20                  1543291200                   43.92   \n",
            "2                   31.04                  1543377600                   44.12   \n",
            "3                   30.30                  1543550400                   38.53   \n",
            "4                   29.11                  1543392000                   35.75   \n",
            "\n",
            "  apparentTemperatureMaxTime  \n",
            "0                 1544958000  \n",
            "1                 1543251600  \n",
            "2                 1543320000  \n",
            "3                 1543510800  \n",
            "4                 1543420800  \n",
            "\n",
            "[5 rows x 57 columns]\n"
          ]
        },
        {
          "output_type": "display_data",
          "data": {
            "text/plain": [
              "<Figure size 640x480 with 1 Axes>"
            ],
            "image/png": "[encoded data removed]"
          },
          "metadata": {}
        },
        {
          "name": "stdout",
          "output_type": "stream",
          "text": [
            "Enter the optimal number of clusters: 2\n"
          ]
        }
      ]
    },
    {
      "cell_type": "markdown",
      "source": [
        "Q-6. Imagine you have a dataset where you have predicted loan Eligibility using any\n",
        "4 different classification algorithms. Now you have to build a model which can\n",
        "predict loan Eligibility and you need to find the accuracy of the model and built-in\n",
        "docker and use some library to display that in frontend\n",
        "Dataset This is the Dataset You can use this dataset for this question."
      ],
      "metadata": {
        "id": "esaqje4qYMnd"
      }
    },
    {
      "cell_type": "code",
      "source": [
        "!pip install pandas numpy scikit-learn flask flask-cors"
      ],
      "metadata": {
        "colab": {
          "base_uri": "https://localhost:8080/"
        },
        "id": "9g6W74JTYknD",
        "outputId": "ec6e6282-f8eb-42f5-9d56-4b6b046f7cd4"
      },
      "execution_count": null,
      "outputs": [
        {
          "output_type": "stream",
          "name": "stdout",
          "text": [
            "Looking in indexes: https://pypi.org/simple, https://us-python.pkg.dev/colab-wheels/public/simple/\n",
            "Requirement already satisfied: pandas in /usr/local/lib/python3.10/dist-packages (1.5.3)\n",
            "Requirement already satisfied: numpy in /usr/local/lib/python3.10/dist-packages (1.22.4)\n",
            "Requirement already satisfied: scikit-learn in /usr/local/lib/python3.10/dist-packages (1.2.2)\n",
            "Requirement already satisfied: flask in /usr/local/lib/python3.10/dist-packages (2.2.4)\n",
            "Collecting flask-cors\n",
            "  Downloading Flask_Cors-3.0.10-py2.py3-none-any.whl (14 kB)\n",
            "Requirement already satisfied: python-dateutil>=2.8.1 in /usr/local/lib/python3.10/dist-packages (from pandas) (2.8.2)\n",
            "Requirement already satisfied: pytz>=2020.1 in /usr/local/lib/python3.10/dist-packages (from pandas) (2022.7.1)\n",
            "Requirement already satisfied: scipy>=1.3.2 in /usr/local/lib/python3.10/dist-packages (from scikit-learn) (1.10.1)\n",
            "Requirement already satisfied: joblib>=1.1.1 in /usr/local/lib/python3.10/dist-packages (from scikit-learn) (1.2.0)\n",
            "Requirement already satisfied: threadpoolctl>=2.0.0 in /usr/local/lib/python3.10/dist-packages (from scikit-learn) (3.1.0)\n",
            "Requirement already satisfied: Werkzeug>=2.2.2 in /usr/local/lib/python3.10/dist-packages (from flask) (2.3.0)\n",
            "Requirement already satisfied: Jinja2>=3.0 in /usr/local/lib/python3.10/dist-packages (from flask) (3.1.2)\n",
            "Requirement already satisfied: itsdangerous>=2.0 in /usr/local/lib/python3.10/dist-packages (from flask) (2.1.2)\n",
            "Requirement already satisfied: click>=8.0 in /usr/local/lib/python3.10/dist-packages (from flask) (8.1.3)\n",
            "Requirement already satisfied: Six in /usr/local/lib/python3.10/dist-packages (from flask-cors) (1.16.0)\n",
            "Requirement already satisfied: MarkupSafe>=2.0 in /usr/local/lib/python3.10/dist-packages (from Jinja2>=3.0->flask) (2.1.2)\n",
            "Installing collected packages: flask-cors\n",
            "Successfully installed flask-cors-3.0.10\n"
          ]
        }
      ]
    },
    {
      "cell_type": "code",
      "source": [
        "!pip install pandas numpy scikit-learn flask docker"
      ],
      "metadata": {
        "colab": {
          "base_uri": "https://localhost:8080/"
        },
        "id": "llyk_KFRZmlv",
        "outputId": "4066118f-4eb8-48ec-a519-8ec04b16fa1e"
      },
      "execution_count": null,
      "outputs": [
        {
          "output_type": "stream",
          "name": "stdout",
          "text": [
            "Looking in indexes: https://pypi.org/simple, https://us-python.pkg.dev/colab-wheels/public/simple/\n",
            "Requirement already satisfied: pandas in /usr/local/lib/python3.10/dist-packages (1.5.3)\n",
            "Requirement already satisfied: numpy in /usr/local/lib/python3.10/dist-packages (1.22.4)\n",
            "Requirement already satisfied: scikit-learn in /usr/local/lib/python3.10/dist-packages (1.2.2)\n",
            "Requirement already satisfied: flask in /usr/local/lib/python3.10/dist-packages (2.2.4)\n",
            "Collecting docker\n",
            "  Downloading docker-6.1.2-py3-none-any.whl (148 kB)\n",
            "\u001b[2K     \u001b[90m━━━━━━━━━━━━━━━━━━━━━━━━━━━━━━━━━━━━━━━\u001b[0m \u001b[32m148.1/148.1 kB\u001b[0m \u001b[31m4.4 MB/s\u001b[0m eta \u001b[36m0:00:00\u001b[0m\n",
            "\u001b[?25hRequirement already satisfied: python-dateutil>=2.8.1 in /usr/local/lib/python3.10/dist-packages (from pandas) (2.8.2)\n",
            "Requirement already satisfied: pytz>=2020.1 in /usr/local/lib/python3.10/dist-packages (from pandas) (2022.7.1)\n",
            "Requirement already satisfied: scipy>=1.3.2 in /usr/local/lib/python3.10/dist-packages (from scikit-learn) (1.10.1)\n",
            "Requirement already satisfied: joblib>=1.1.1 in /usr/local/lib/python3.10/dist-packages (from scikit-learn) (1.2.0)\n",
            "Requirement already satisfied: threadpoolctl>=2.0.0 in /usr/local/lib/python3.10/dist-packages (from scikit-learn) (3.1.0)\n",
            "Requirement already satisfied: Werkzeug>=2.2.2 in /usr/local/lib/python3.10/dist-packages (from flask) (2.3.0)\n",
            "Requirement already satisfied: Jinja2>=3.0 in /usr/local/lib/python3.10/dist-packages (from flask) (3.1.2)\n",
            "Requirement already satisfied: itsdangerous>=2.0 in /usr/local/lib/python3.10/dist-packages (from flask) (2.1.2)\n",
            "Requirement already satisfied: click>=8.0 in /usr/local/lib/python3.10/dist-packages (from flask) (8.1.3)\n",
            "Requirement already satisfied: packaging>=14.0 in /usr/local/lib/python3.10/dist-packages (from docker) (23.1)\n",
            "Requirement already satisfied: requests>=2.26.0 in /usr/local/lib/python3.10/dist-packages (from docker) (2.27.1)\n",
            "Requirement already satisfied: urllib3>=1.26.0 in /usr/local/lib/python3.10/dist-packages (from docker) (1.26.15)\n",
            "Requirement already satisfied: websocket-client>=0.32.0 in /usr/local/lib/python3.10/dist-packages (from docker) (1.5.1)\n",
            "Requirement already satisfied: MarkupSafe>=2.0 in /usr/local/lib/python3.10/dist-packages (from Jinja2>=3.0->flask) (2.1.2)\n",
            "Requirement already satisfied: six>=1.5 in /usr/local/lib/python3.10/dist-packages (from python-dateutil>=2.8.1->pandas) (1.16.0)\n",
            "Requirement already satisfied: certifi>=2017.4.17 in /usr/local/lib/python3.10/dist-packages (from requests>=2.26.0->docker) (2022.12.7)\n",
            "Requirement already satisfied: charset-normalizer~=2.0.0 in /usr/local/lib/python3.10/dist-packages (from requests>=2.26.0->docker) (2.0.12)\n",
            "Requirement already satisfied: idna<4,>=2.5 in /usr/local/lib/python3.10/dist-packages (from requests>=2.26.0->docker) (3.4)\n",
            "Installing collected packages: docker\n",
            "Successfully installed docker-6.1.2\n"
          ]
        }
      ]
    },
    {
      "cell_type": "code",
      "source": [
        "import pandas as pd\n",
        "from sklearn.model_selection import train_test_split\n",
        "from sklearn.metrics import accuracy_score\n",
        "from sklearn.tree import DecisionTreeClassifier\n",
        "from sklearn.neighbors import KNeighborsClassifier\n",
        "from sklearn.ensemble import RandomForestClassifier\n",
        "from sklearn.svm import SVC\n",
        "from flask import Flask, request, jsonify\n",
        "import docker\n",
        "\n",
        "data = pd.read_csv('Loan_Train.csv')\n",
        "\n",
        "X = data.drop('Loan_Status', axis=1)\n",
        "y = data['Loan_Status']\n",
        "\n",
        "X_train, X_test, y_train, y_test = train_test_split(X, y, test_size=0.2, random_state=42)\n",
        "\n",
        "models = [\n",
        "    ('Decision Tree', DecisionTreeClassifier()),\n",
        "    ('K-Nearest Neighbors', KNeighborsClassifier()),\n",
        "    ('Random Forest', RandomForestClassifier()),\n",
        "    ('Support Vector Machine', SVC())\n",
        "]\n",
        "\n",
        "for name, model in models:\n",
        "    model.fit(X_train, y_train)\n",
        "    y_pred = model.predict(X_test)\n",
        "    accuracy = accuracy_score(y_test, y_pred)\n",
        "    print(f'{name} Accuracy: {accuracy}')\n",
        "best_model = max(models, key=lambda x: x[1].score(X_test, y_test))[1]\n",
        "app = Flask(__name__)\n",
        "\n",
        "@app.route('/predict', methods=['POST'])\n",
        "def predict():\n",
        "    data = request.get_json()\n",
        "    features = pd.DataFrame(data, index=[0])\n",
        "    prediction = best_model.predict(features)\n",
        "    return jsonify({'prediction': prediction[0]})\n",
        "\n",
        "if __name__ == '__main__':\n",
        "    app.run(debug=True, host='0.0.0.0')\n",
        "    client = docker.from_env()\n",
        "\n",
        "client.images.build(path='.', tag='loan-eligibility-predictor')\n",
        "\n",
        "client.containers.run('loan-eligibility-predictor', ports={'5000': '5000'}, detach=True)\n",
        "#http://localhost:5000/predict"
      ],
      "metadata": {
        "id": "M7r2jDD2awe1"
      },
      "execution_count": null,
      "outputs": []
    },
    {
      "cell_type": "markdown",
      "source": [
        "Q-6. Imagine you have a dataset where you have predicted loan Eligibility using any\n",
        "4 different classification algorithms. Now you have to build a model which can\n",
        "predict loan Eligibility and you need to find the accuracy of the model and built-in\n",
        "docker and use some library to display that in frontend\n",
        "Dataset This is the Dataset You can use this dataset for this question."
      ],
      "metadata": {
        "id": "umYq1kEDdOU5"
      }
    },
    {
      "cell_type": "code",
      "source": [
        "import pandas as pd\n",
        "from sklearn.feature_extraction.text import TfidfVectorizer\n",
        "from sklearn.cluster import KMeans\n",
        "from sklearn.metrics import silhouette_score\n",
        "from sklearn.decomposition import PCA\n",
        "from flask import Flask, render_template\n",
        "\n",
        "# Load the dataset\n",
        "data = pd.read_csv('data.csv')\n",
        "print(data)\n",
        "\n",
        "# Preprocess the data\n",
        "vectorizer = TfidfVectorizer(stop_words='english')\n",
        "X = vectorizer.fit_transform(data['filename'])\n",
        "\n",
        "# Apply K-means clustering\n",
        "k = 5  # Number of clusters\n",
        "kmeans = KMeans(n_clusters=k, random_state=42)\n",
        "kmeans.fit(X)\n",
        "\n",
        "# Evaluate the clustering\n",
        "labels = kmeans.labels_\n",
        "silhouette_avg = silhouette_score(X, labels)\n",
        "print(\"Silhouette score:\", silhouette_avg)\n",
        "\n",
        "# Reduce the dimensionality for visualization\n",
        "pca = PCA(n_components=2)\n",
        "X_pca = pca.fit_transform(X.toarray())\n",
        "\n",
        "# Create a Flask app\n",
        "app = Flask(__name__)\n",
        "\n",
        "# Route for the homepage\n",
        "@app.route('/')\n",
        "def index():\n",
        "    return render_template('index.html', data=data, labels=labels, X_pca=X_pca)\n",
        "\n",
        "# Run the app\n",
        "if __name__ == '__main__':\n",
        "    app.run(debug=True)\n"
      ],
      "metadata": {
        "id": "XzCiztKfdSve"
      },
      "execution_count": null,
      "outputs": []
    },
    {
      "cell_type": "markdown",
      "source": [
        "Q-8. Quora question pair similarity, you need to find the Similarity between two\n",
        "questions by mapping the words in the questions using TF-IDF, and using a supervised\n",
        "Algorithm you need to find the similarity between the questions.\n",
        "Dataset This is the Dataset You can use this dataset for this question."
      ],
      "metadata": {
        "id": "pwFXYvP9lf0v"
      }
    },
    {
      "cell_type": "code",
      "source": [
        "import pandas as pd\n",
        "from sklearn.feature_extraction.text import TfidfVectorizer\n",
        "from sklearn.model_selection import train_test_split\n",
        "from sklearn.linear_model import LogisticRegression\n",
        "from sklearn.metrics import accuracy_score\n",
        "\n",
        "# Load the dataset\n",
        "data = pd.read_csv('sample_submission.csv')\n",
        "print(data)\n",
        "# Remove any rows with missing values\n",
        "data = data.dropna()\n",
        "\n",
        "\n",
        "# Split the data into questions and labels\n",
        "questions = data['test_id']\n",
        "labels = data['Similarity']\n",
        "\n",
        "# Split the data into training and testing sets\n",
        "questions_train, questions_test, labels_train, labels_test = train_test_split(questions, labels, test_size=0.2, random_state=42)\n",
        "\n",
        "# Create a TF-IDF vectorizer\n",
        "tfidf = TfidfVectorizer()\n",
        "tfidf.fit(questions_train)\n",
        "\n",
        "# Transform the questions into TF-IDF features\n",
        "features_train = tfidf.transform(questions_train)\n",
        "features_test = tfidf.transform(questions_test)\n",
        "\n",
        "# Train a supervised algorithm (Logistic Regression)\n",
        "classifier = LogisticRegression()\n",
        "classifier.fit(features_train, labels_train)\n",
        "\n",
        "# Make predictions on the testing set\n",
        "predictions = classifier.predict(features_test)\n",
        "\n",
        "# Calculate the accuracy of the predictions\n",
        "accuracy = accuracy_score(labels_test, predictions)\n",
        "print(\"Accuracy:\", accuracy)\n"
      ],
      "metadata": {
        "id": "P98B7YzkliWo"
      },
      "execution_count": null,
      "outputs": []
    }
  ]
}