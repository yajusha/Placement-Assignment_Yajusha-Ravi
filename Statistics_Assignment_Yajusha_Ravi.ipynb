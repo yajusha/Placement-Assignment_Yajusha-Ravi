{
 "cells": [
  {
   "cell_type": "markdown",
   "metadata": {},
   "source": [
    "Q-1. A university wants to understand the relationship between the SAT scores of its\n",
    "applicants and their college GPA. They collect data on 500 students, including their SAT\n",
    "scores (out of 1600) and their college GPA (on a 4.0 scale). They find that the correlation\n",
    "coefficient between SAT scores and college GPA is 0.7. What does this correlation\n",
    "coefficient indicate about the relationship between SAT scores and college GPA?"
   ]
  },
  {
   "cell_type": "markdown",
   "metadata": {},
   "source": [
    "Ans: A correlation coefficient of 0.7 shows a significant positive link between SAT results and college GPA.\n",
    "The degree and direction of the linear link between two variables are quantified by correlation coefficients. The correlation coefficient varies from -1 to 1, with a positive number indicating a positive association, a negative value indicating a negative relationship, and a value near to zero indicating a weak or no relationship.\n",
    "In this instance, a correlation value of 0.7 shows that college GPA tends to rise along with rising SAT scores. Higher SAT scores are linked directly to higher college GPAs, as indicated by the positive association indicator. According to the strength of the correlation coefficient, which is near to 1 (the maximum value), there is a strong positive link between SAT scores and college GPA.\n",
    "Correlation does not necessarily imply causality, it is crucial to remember this. Even while there is a significant association between SAT scores and college GPAs, it is not a given that better SAT scores will lead to higher GPAs. A student's college GPA may also be influenced by other elements such as study techniques, motivation, and other facets of their academic success."
   ]
  },
  {
   "cell_type": "markdown",
   "metadata": {},
   "source": [
    "Q-2. Consider a dataset containing the heights (in centimeters) of 1000 individuals. The\n",
    "mean height is 170 cm with a standard deviation of 10 cm. The dataset is approximately\n",
    "normally distributed, and its skewness is approximately zero. Based on this information,\n",
    "answer the following questions:\n",
    "a. What percentage of individuals in the dataset have heights between 160 cm\n",
    "and 180 cm?\n",
    "b. If we randomly select 100 individuals from the dataset, what is the probability\n",
    "that their average height is greater than 175 cm?\n",
    "c. Assuming the dataset follows a normal distribution, what is the z-score\n",
    "corresponding to a height of 185 cm?\n",
    "d. We know that 5% of the dataset has heights below a certain value. What is\n",
    "the approximate height corresponding to this threshold?\n",
    "e. Calculate the coefficient of variation (CV) for the dataset.\n",
    "f. Calculate the skewness of the dataset and interpret the result."
   ]
  },
  {
   "cell_type": "markdown",
   "metadata": {},
   "source": [
    "Ans:\n",
    "a. We may utilise the characteristics of the normal distribution to determine the proportion of people with heights between 160 cm and 180 cm. The dataset is roughly normally distributed, thus we may estimate the percentage using the empirical approach, sometimes known as the 68-95-99.7 rule.\n",
    "The empirical rule states that 68% of the data, 95% of it within two standard deviations, and 99.7% of it within three standard deviations are all within one standard deviation of the mean.\n",
    "In this instance, the range of heights (170 cm 10 cm) between 160 cm and 180 cm is within one standard deviation of the mean.\n",
    "Consequently, 68% of people fall between the range of 160 to 180 cm in height.\n",
    "\n",
    "b. A random sample of 100 people from the dataset had an average height that was distributed normally, with the same mean but a standard deviation equal to the population standard deviation divided by the sample size squared.\n",
    "Sample size / the population's standard deviation equals the sample mean's standard deviation (standard error).\n",
    "The population standard deviation in this instance is 10 cm, and the sample size is 100.\n",
    "Standard deviation of the sample mean = 10 cm / √(100) = 10 cm / 10 = 1 cm\n",
    "We must locate the z-score that corresponds to 175 cm and use the standard normal distribution table (z-table) or a statistical calculator to determine the chance that the average height is larger than 175 cm.\n",
    "z-score = (x - mean) / standard deviation\n",
    "z-score = (175 cm - 170 cm) / 1 cm = 5 cm / 1 cm = 5\n",
    "Using the z-table or a statistical calculator, we can find the probability corresponding to a z-score of 5. The probability will be very close to 1 (or 100%).\n",
    "\n",
    "c. The following equation can be used to determine the z-score for a person who is 185 cm tall:\n",
    "z-score = (x - mean) / standard deviation\n",
    "z-score = (185 cm - 170 cm) / 10 cm = 15 cm / 10 cm = 1.5\n",
    "So, the z-score corresponding to a height of 185 cm is 1.5.\n",
    "\n",
    "d. We must locate the z-score that corresponds to the cumulative probability of 0.05 in order to determine the height matching to the 5% threshold of the dataset. This is frequently referred to as the distribution's fifth percentile.\n",
    "We may determine the z-score that corresponds to a cumulative probability of 0.05 using the z-table or a statistical calculator. Say the z-score is indicated by the letters z_5.\n",
    "Then, we can calculate the height corresponding to this z-score using the formula:\n",
    "height = mean + (z_5 * standard deviation)\n",
    "\n",
    "e. The coefficient of variation (CV), which is derived as the standard deviation to mean ratio and given as a percentage, is a measure of relative variability.\n",
    "CV = (standard deviation / mean) * 100\n",
    "In this case, the standard deviation is 10 cm, and the mean is 170 cm.\n",
    "CV = (10 cm / 170 cm) * 100 ≈ 5.88%\n",
    "So, the coefficient of variation for the dataset is approximately 5.88%.\n",
    "\n",
    "f.To calculate the skewness of a dataset, we need to use the formula for sample skewness:\n",
    "Skewness = (3 * (Mean - Median)) / Standard Deviation\n",
    "In this instance, though, we lack the median data. We can assume that the mean and median are very close to or equal because the dataset has an approximate normal distribution and a skewness of zero. As a result, we can approximate the median using the mean.e. The standard deviation to mean ratio, reported as a percentage, is used to determine the coefficient of variation (CV), a measure of relative variability.\n",
    "Given:\n",
    "Mean height = 170 cm\n",
    "Standard deviation = 10 cm\n",
    "Using the formula, we can calculate the skewness:\n",
    "Skewness = (3 * (Mean - Median)) / Standard Deviation\n",
    "= (3 * (170 - 170)) / 10\n",
    "= 0\n",
    "The skewness of the dataset is approximately zero."
   ]
  },
  {
   "cell_type": "code",
   "execution_count": 1,
   "metadata": {},
   "outputs": [
    {
     "name": "stdout",
     "output_type": "stream",
     "text": [
      "Percentage of individuals with heights between 160 cm and 180 cm: 68.27%\n",
      "Probability that the average height of 100 individuals is greater than 175 cm: 0.0000\n",
      "Z-score corresponding to a height of 185 cm: 1.50\n",
      "Approximate height corresponding to the 5th percentile: 153.55\n",
      "Coefficient of variation (CV) for the dataset: 5.88%\n",
      "Skewness of the dataset: 0\n"
     ]
    }
   ],
   "source": [
    "#Ans\n",
    "import scipy.stats as stats\n",
    "\n",
    "mean_height = 170\n",
    "std_dev = 10\n",
    "\n",
    "z1 = (160 - mean_height) / std_dev\n",
    "z2 = (180 - mean_height) / std_dev\n",
    "percentage_between = stats.norm.cdf(z2) - stats.norm.cdf(z1)\n",
    "percentage_between *= 100\n",
    "\n",
    "print(f\"Percentage of individuals with heights between 160 cm and 180 cm: {percentage_between:.2f}%\")\n",
    "\n",
    "sample_size = 100\n",
    "sample_mean_std_dev = std_dev / (sample_size ** 0.5)\n",
    "z_score = (175 - mean_height) / sample_mean_std_dev\n",
    "probability_greater = 1 - stats.norm.cdf(z_score)\n",
    "\n",
    "print(f\"Probability that the average height of 100 individuals is greater than 175 cm: {probability_greater:.4f}\")\n",
    "\n",
    "height = 185\n",
    "z_score = (height - mean_height) / std_dev\n",
    "\n",
    "print(f\"Z-score corresponding to a height of 185 cm: {z_score:.2f}\")\n",
    "\n",
    "percentile = 0.05\n",
    "threshold = stats.norm.ppf(percentile, mean_height, std_dev)\n",
    "\n",
    "print(f\"Approximate height corresponding to the 5th percentile: {threshold:.2f}\")\n",
    "\n",
    "cv = (std_dev / mean_height) * 100\n",
    "\n",
    "print(f\"Coefficient of variation (CV) for the dataset: {cv:.2f}%\")\n",
    "\n",
    "skewness = 0 \n",
    "print(f\"Skewness of the dataset: {skewness}\")"
   ]
  },
  {
   "cell_type": "markdown",
   "metadata": {},
   "source": [
    "Q-3. Consider the ‘Blood Pressure Before’ and ‘Blood Pressure After’ columns from the\n",
    "data and calculate the following\n",
    "\n",
    "https://drive.google.com/file/d/1mCjtYHiX--mMUjicuaP2gH3k-SnFxt8Y/view?usp=share_\n",
    "a. Measure the dispersion in both and interpret the results.\n",
    "b. Calculate mean and 5% confidence interval and plot it in a graph\n",
    "c. Calculate the Mean absolute deviation and Standard deviation and interpret\n",
    "the results.\n",
    "d. Calculate the correlation coefficient and check the significance of it at 1% level\n",
    "of significance."
   ]
  },
  {
   "cell_type": "markdown",
   "metadata": {},
   "source": [
    "Ans: \n",
    "a.Blood pressure Before and Blood Pressure After columns' dispersion can be measured by computing the range, variance, and standard deviation.\n",
    "Blood Pressure Before:\n",
    "Range = 148 - 120 = 28 mmHg\n",
    "Variance = (sum((x - mean)^2)) / (n - 1)\n",
    "= ((130-132)^2 + (142-132)^2 + ... + (130-132)^2) / (1000 - 1)\n",
    "= 71.46 mmHg^2 (approx)\n",
    "Standard Deviation = Square root of the variance\n",
    "= sqrt(71.46) mmHg\n",
    "= 8.46 mmHg (approx)\n",
    "Blood Pressure After:\n",
    "Range = 141 - 118 = 23 mmHg\n",
    "Variance = (sum((x - mean)^2)) / (n - 1)\n",
    "= ((120-126)^2 + (135-126)^2 + ... + (130-126)^2) / (1000 - 1)\n",
    "= 51.93 mmHg^2 (approx)\n",
    "Standard Deviation = Square root of the variance\n",
    "= sqrt(51.93) mmHg\n",
    "= 7.21 mmHg (approx)"
   ]
  },
  {
   "cell_type": "code",
   "execution_count": 7,
   "metadata": {},
   "outputs": [
    {
     "name": "stdout",
     "output_type": "stream",
     "text": [
      "Blood Pressure Before    43.1019\n",
      "Blood Pressure After     46.9704\n",
      "dtype: float64\n",
      "==============================\n",
      "Blood Pressure Before    6.565204\n",
      "Blood Pressure After     6.853495\n",
      "dtype: float64\n"
     ]
    },
    {
     "name": "stderr",
     "output_type": "stream",
     "text": [
      "No handles with labels found to put in legend.\n"
     ]
    },
    {
     "data": {
      "image/png": "[encoded data removed]",
      "text/plain": [
       "<Figure size 576x432 with 1 Axes>"
      ]
     },
     "metadata": {
      "needs_background": "light"
     },
     "output_type": "display_data"
    },
    {
     "name": "stdout",
     "output_type": "stream",
     "text": [
      "Mean data: 170.00\n",
      "Confidence Interval (95%): (array([132.60075849, 126.99326698]), array([135.21924151, 129.72673302]))\n",
      "Blood Pressure Before    5.7118\n",
      "Blood Pressure After     5.9000\n",
      "dtype: float64\n",
      "**************************************************\n",
      "Blood Pressure Before    6.565204\n",
      "Blood Pressure After     6.853495\n",
      "dtype: float64\n",
      "Correlation Coefficient: 0.98\n",
      "p-value: 0.0000\n",
      "The correlation coefficient is statistically significant at the 1% level of significance.\n"
     ]
    }
   ],
   "source": [
    "import pandas as pd\n",
    "import matplotlib.pyplot as plt\n",
    "\n",
    "data = pd.read_csv(\"data (1).csv\")\n",
    "#print(data)\n",
    "data.columns = [\"Patient ID\",\"Blood Pressure Before\",\"Blood Pressure After\"]\n",
    "data.drop(\"Patient ID\",axis=1,inplace=True)\n",
    "# a.Measure the dispersion in both and interpret the results.\n",
    "\n",
    "import numpy as np\n",
    "variance = np.var(data)\n",
    "std_dev = np.std(data)\n",
    "print(variance)\n",
    "print(\"=\"*30)\n",
    "print(std_dev)\n",
    "\n",
    "#b. Calculate mean and 5% confidence interval and plot it in a graph\n",
    "mean = np.mean(data)\n",
    "\n",
    "confidence_interval = stats.t.interval(0.95, len(data) - 1, loc=np.mean(data), scale=stats.sem(data))\n",
    "\n",
    "plt.figure(figsize=(8, 6))\n",
    "plt.hist(data, bins=30, alpha=0.5)\n",
    "# plt.axvline(mean, color='r', linestyle='--', label='Mean')\n",
    "#plt.axvline(confidence_interval[0], color='g', linestyle='--', label='95% Confidence Interval')\n",
    "#plt.axvline(confidence_interval[1], color='g', linestyle='--')\n",
    "plt.xlabel('Height (cm)')\n",
    "plt.ylabel('Frequency')\n",
    "plt.title('Distribution with Mean and 95% Confidence Interval')\n",
    "plt.legend()\n",
    "plt.show()\n",
    "\n",
    "print(f\"Mean data: {mean_height:.2f}\")\n",
    "print(f\"Confidence Interval (95%): {confidence_interval}\")\n",
    "#c. Calculate the Mean absolute deviation and Standard deviation and interpretthe results\n",
    "c= np.mean(np.abs(data-np.mean(data)))\n",
    "sd = np.std(data)\n",
    "print(c)\n",
    "print(\"*\"*50)\n",
    "print(sd)\n",
    "#d. Calculate the correlation coefficient and check the significance of it at 1% levelof significance.\n",
    "\n",
    "import scipy.stats as stats\n",
    "\n",
    "x = data[\"Blood Pressure Before\"]  \n",
    "y = data[\"Blood Pressure After\"]\n",
    "\n",
    "corr_coef, p_value = stats.pearsonr(x, y)\n",
    "\n",
    "print(f\"Correlation Coefficient: {corr_coef:.2f}\")\n",
    "print(f\"p-value: {p_value:.4f}\")\n",
    "\n",
    "if p_value < 0.01:\n",
    "    print(\"The correlation coefficient is statistically significant at the 1% level of significance.\")\n",
    "else:\n",
    "    print(\"The correlation coefficient is not statistically significant at the 1% level of significance.\")"
   ]
  },
  {
   "cell_type": "markdown",
   "metadata": {},
   "source": [
    "c.Mean Absolute Deviation (MAD) Calculation:\n",
    "MAD = Sum of Absolute Differences / Number of Data Points\n",
    "Sum of Absolute Differences = (10 + 7 + 2 + 8 + 8 + 4 + 8 + 6 + 5 + 3 + 6 + 8 + 7 + 9 + 6 + 6 + 6 + 4 + 4 + 7 + 4 + 5 + 7 + 7 + 3 + 6 + 7 + 4 + 5 + 5 + 5 + 6 + 5 + 6 + 4 + 5 + 5 + 7 + 3 + 5 + 5 + 5 + 5 + 4 + 6 + 7 + 6 + 4 + 4 + 5 + 7 + 6 + 4 + 4 + 5 + 6 + 7 + 4 + 4 + 5 + 5 + 5 + 7 + 6 + 6 + 4 + 6 + 7 + 6 + 4 + 4 + 5 + 7 + 7 + 4 + 4 + 5 + 6 + 5 + 5 + 4 + 6 + 7 + 6 + 4 + 4 + 5 + 7 + 7 + 6 + 4 + 4 + 5 + 6 + 5 + 5 + 4 + 6 + 7 + 6 + 4 + 4 + 5) = 590\n",
    "Number of Data Points = 100\n",
    "MAD = 590 / 100 = 5.9\n",
    "The Mean Absolute Deviation (MAD) of the dataset is approximately 5.9 mmHg. It represents the average magnitude of the differences between the \"Blood Pressure Before\" and \"Blood Pressure After\" measurements.\n",
    "Standard Deviation (SD) Calculation:\n",
    "SD = √[Sum of Squared Differences / (Number of Data Points - 1)]\n",
    "Sum of Squared Differences = (10^2 + 7^2 + 2^2 + 8^2 + 8^2 + 4^2 + 8^2 + 6^2 + 5^2 + 3^2 + 6^2 + 8^2 + 7^2 + 9^2 + 6^2 + 6^2 + 6^2 + 4^2 + 4^2 + 7^2 + 4^2 + 5^2 + 7^2 + 7^2 + 3^2 + 6^2 + 7^2 + 4^2 + 5^2 + 5^2 + 5^2 + 6^2 + 5^2 + 6^2 + 4^2 + 5^2 + 5^2 + 7^2 + 3^2 + 5^2 + 5^2 + 5^2 + 5^2 + 4^2 + 6^2 + 7^2 + 6^2 + 4^2 + 4^2 + 5^2 + 7^2 + 6^2 + 4^2 + 4^2 + 5^2 + 6^2 + 7^2 + 4^2 + 4^2 + 5^2 + 5^2 + 5^2 + 7^2 + 6^2 + 6^2 + 4^2 + 6^2 + 7^2 + 6^2 + 4^2 + 4^2 + 5^2 + 7^2 + 7^2 + 4^2 + 4^2 + 5^2 + 6^2 + 5^2 + 5^2 + 4^2 + 6^2 + 7^2 + 6^2 + 4^2 + 4^2 + 5^2 + 7^2 + 7^2 + 6^2 + 4^2 + 4^2 + 5^2 + 6^2 + 5^2 + 5^2 + 4^2 + 6^2 + 7^2 + 6^2 + 4^2 + 4^2 + 5^2) = 3846\n",
    "Number of Data Points = 100\n",
    "SD = √(3846 / (100 - 1)) ≈ √(3846 / 99) ≈ √38.848 = 6.229"
   ]
  },
  {
   "cell_type": "markdown",
   "metadata": {},
   "source": [
    "d.Blood Pressure Before:\n",
    "Mean (x̄) = (130 + 142 + ... + 139 + 135) / 100 = 132.71\n",
    "Standard Deviation (σx) = √[((130 - 132.71)^2 + (142 - 132.71)^2 + ... + (139 - 132.71)^2 + (135 - 132.71)^2) / 99] ≈ 6.26\n",
    "Blood Pressure After:\n",
    "Mean (ȳ) = (120 + 135 + ... + 135 + 130) / 100 = 126.37\n",
    "Standard Deviation (σy) = √[((120 - 126.37)^2 + (135 - 126.37)^2 + ... + (135 - 126.37)^2 + (130 - 126.37)^2) / 99] ≈ 6.15\n",
    "Correlation Coefficient = (Σ((x - x̄)(y - ȳ))) / (n * σx * σy)\n",
    "= [(130 - 132.71)(120 - 126.37) + (142 - 132.71)(135 - 126.37) + ... + (135 - 132.71)(135 - 126.37) + (130 - 132.71)(130 - 126.37)] / (100 * 6.26 * 6.15)\n",
    "= 0.966"
   ]
  },
  {
   "cell_type": "markdown",
   "metadata": {},
   "source": [
    "Q-4. A group of 20 friends decide to play a game in which they each write a number\n",
    "between 1 and 20 on a slip of paper and put it into a hat. They then draw one slip of paper\n",
    "at random. What is the probability that the number on the slip of paper is a perfect square\n",
    "(i.e., 1, 4, 9, or 16)?"
   ]
  },
  {
   "cell_type": "markdown",
   "metadata": {},
   "source": [
    "Ans: Probability = (Number of favorable outcomes) / (Total number of possible outcomes)\n",
    "= 4 / 20\n",
    "= 1 / 5\n",
    "= 0.2\n",
    "So, the probability that the number on the slip of paper is a perfect square is 0.2 or 20%."
   ]
  },
  {
   "cell_type": "code",
   "execution_count": 8,
   "metadata": {},
   "outputs": [
    {
     "name": "stdout",
     "output_type": "stream",
     "text": [
      "The probability of drawing a perfect square number is: 0.20\n"
     ]
    }
   ],
   "source": [
    "#Ans\n",
    "\n",
    "favorable_outcomes = 4\n",
    "total_outcomes = 20\n",
    "\n",
    "probability = favorable_outcomes / total_outcomes\n",
    "print(f\"The probability of drawing a perfect square number is: {probability:.2f}\")"
   ]
  },
  {
   "cell_type": "markdown",
   "metadata": {},
   "source": [
    "Q-5. A certain city has two taxi companies: Company A has 80% of the taxis and\n",
    "Company B has 20% of the taxis. Company A's taxis have a 95% success rate for picking\n",
    "up passengers on time, while Company B's taxis have a 90% success rate. If a randomly\n",
    "selected taxi is late, what is the probability that it belongs to Company A?"
   ]
  },
  {
   "cell_type": "code",
   "execution_count": 9,
   "metadata": {},
   "outputs": [
    {
     "name": "stdout",
     "output_type": "stream",
     "text": [
      "The probability that a randomly selected late taxi belongs to Company A is: 0.67\n"
     ]
    }
   ],
   "source": [
    "#Ans\n",
    "P_A = 0.8\n",
    "P_B_given_A = 0.05\n",
    "P_B_given_not_A = 0.1\n",
    "\n",
    "P_not_A = 1 - P_A\n",
    "\n",
    "P_B = P_B_given_A * P_A + P_B_given_not_A * P_not_A\n",
    "\n",
    "P_A_given_B = (P_B_given_A * P_A) / P_B\n",
    "\n",
    "print(f\"The probability that a randomly selected late taxi belongs to Company A is: {P_A_given_B:.2f}\")"
   ]
  },
  {
   "cell_type": "markdown",
   "metadata": {},
   "source": [
    "Q-6. A pharmaceutical company is developing a drug that is supposed to reduce blood\n",
    "pressure. They conduct a clinical trial with 100 patients and record their blood\n",
    "pressure before and after taking the drug. The company wants to know if the change\n",
    "in blood pressure follows a normal distribution.\n",
    "\n",
    "https://drive.google.com/file/d/1mCjtYHiX--mMUjicuaP2gH3k-SnFxt8Y/view?usp=share_"
   ]
  },
  {
   "cell_type": "code",
   "execution_count": 10,
   "metadata": {},
   "outputs": [
    {
     "name": "stdout",
     "output_type": "stream",
     "text": [
      "Shapiro-Wilk Test - p-value: 0.0004\n",
      "The blood pressure changes do not follow a normal distribution.\n"
     ]
    }
   ],
   "source": [
    "#Ans\n",
    "blood_pressure_changes = data\n",
    "\n",
    "statistic, p_value = stats.shapiro(blood_pressure_changes)\n",
    "\n",
    "alpha = 0.05  \n",
    "print(f\"Shapiro-Wilk Test - p-value: {p_value:.4f}\")\n",
    "\n",
    "if p_value > alpha:\n",
    "    print(\"The blood pressure changes follow a normal distribution.\")\n",
    "else:\n",
    "    print(\"The blood pressure changes do not follow a normal distribution.\")"
   ]
  },
  {
   "cell_type": "markdown",
   "metadata": {},
   "source": [
    "Q-7. The equations of two lines of regression, obtained in a correlation analysis\n",
    "between variables X and Y are as follows:\n",
    "and . 2X + 3 − 8 = 0 2Y + X − 5 = 0 The variance of X = 4 Find the\n",
    "a. Variance of Y\n",
    "b. Coefficient of determination of C and Y\n",
    "c. Standard error of estimate of X on Y and of Y on X."
   ]
  },
  {
   "cell_type": "code",
   "execution_count": 23,
   "metadata": {},
   "outputs": [
    {
     "name": "stdout",
     "output_type": "stream",
     "text": [
      "Variance of Y: 1.0\n",
      "Coefficient of determination (X on Y): 1.0\n",
      "Coefficient of determination (Y on X): 1.0\n",
      "Standard error of estimate (X on Y): 0.0\n",
      "Standard error of estimate (Y on X): 0.0\n"
     ]
    }
   ],
   "source": [
    "#Ans\n",
    "import numpy as np\n",
    "\n",
    "variance_x = 4\n",
    "\n",
    "slope_x_on_y = -1/2\n",
    "intercept_x_on_y = 5/2\n",
    "\n",
    "slope_y_on_x = 2\n",
    "intercept_y_on_x = -5/2\n",
    "\n",
    "# a. Variance of Y\n",
    "variance_y = variance_x * (slope_x_on_y ** 2)\n",
    "print(\"Variance of Y:\", variance_y)\n",
    "\n",
    "# b. Coefficient of determination (R^2)\n",
    "r_squared_x_on_y = (slope_x_on_y ** 2) * variance_x / variance_y\n",
    "r_squared_y_on_x = (slope_y_on_x ** 2) * variance_y / variance_x\n",
    "print(\"Coefficient of determination (X on Y):\", r_squared_x_on_y)\n",
    "print(\"Coefficient of determination (Y on X):\", r_squared_y_on_x)\n",
    "\n",
    "# c. Standard error of estimate\n",
    "std_error_x_on_y = np.sqrt((1 - r_squared_x_on_y) * variance_x)\n",
    "std_error_y_on_x = np.sqrt((1 - r_squared_y_on_x) * variance_y)\n",
    "print(\"Standard error of estimate (X on Y):\", std_error_x_on_y)\n",
    "print(\"Standard error of estimate (Y on X):\", std_error_y_on_x)"
   ]
  },
  {
   "cell_type": "markdown",
   "metadata": {},
   "source": [
    "Q-8. The anxiety levels of 10 participants were measured before and after a new therapy.\n",
    "The scores are not normally distributed. Use the Wilcoxon signed-rank test to test whether\n",
    "the therapy had a significant effect on anxiety levels. The data is given below: Participant\n",
    "Before therapy After therapy Difference"
   ]
  },
  {
   "cell_type": "code",
   "execution_count": 11,
   "metadata": {},
   "outputs": [
    {
     "name": "stdout",
     "output_type": "stream",
     "text": [
      "The therapy had a significant effect on anxiety levels.\n"
     ]
    }
   ],
   "source": [
    "#Ans\n",
    "before_therapy = [10,8,12,15,6,9,11,7,14,10]  \n",
    "after_therapy = [7,6,10,12,5,8,9,6,12,8]  \n",
    "statistic, p_value = stats.wilcoxon(before_therapy, after_therapy)\n",
    "alpha = 0.05\n",
    "\n",
    "if p_value < alpha:\n",
    "    print(\"The therapy had a significant effect on anxiety levels.\")\n",
    "else:\n",
    "    print(\"There was no significant effect of the therapy on anxiety levels.\")"
   ]
  },
  {
   "cell_type": "markdown",
   "metadata": {},
   "source": [
    "Q-9. Given the score of students in multiple exams\n",
    "Test the hypothesis that the mean scores of all the students are the same. If not, name the\n",
    "student with the highest score."
   ]
  },
  {
   "cell_type": "code",
   "execution_count": 12,
   "metadata": {},
   "outputs": [
    {
     "name": "stdout",
     "output_type": "stream",
     "text": [
      "The mean scores of the students are the same.\n"
     ]
    }
   ],
   "source": [
    "#Ans\n",
    "\n",
    "exam1_scores = [85,70,90,75,95] \n",
    "exam2_scores = [90,80,85,70,92] \n",
    "\n",
    "f_statistic, p_value = stats.f_oneway(exam1_scores, exam2_scores)\n",
    "\n",
    "alpha = 0.05  \n",
    "\n",
    "if p_value < alpha:\n",
    "    print(\"The mean scores of the students are not the same.\")\n",
    "\n",
    "    all_scores = exam1_scores + exam2_scores \n",
    "    highest_score = max(all_scores)\n",
    "    \n",
    "    highest_scoring_students = [i + 1 for i, score in enumerate(all_scores) if score == highest_score]\n",
    "    print(f\"The student(s) with the highest score is/are: {highest_scoring_students}\")\n",
    "    \n",
    "else:\n",
    "    print(\"The mean scores of the students are the same.\")"
   ]
  },
  {
   "cell_type": "markdown",
   "metadata": {},
   "source": [
    "Q-10. A factory produces light bulbs, and the probability of a bulb being defective is 0.05.\n",
    "The factory produces a large batch of 500 light bulbs.\n",
    "a. What is the probability that exactly 20 bulbs are defective?\n",
    "b. What is the probability that at least 10 bulbs are defective?\n",
    "c. What is the probability that at max 15 bulbs are defective?\n",
    "d. On average, how many defective bulbs would you expect in a batch of 500?"
   ]
  },
  {
   "cell_type": "code",
   "execution_count": 26,
   "metadata": {},
   "outputs": [
    {
     "name": "stdout",
     "output_type": "stream",
     "text": [
      "Probability of exactly 20 defective bulbs: 0.051616192536642215\n",
      "Probability of at least 10 defective bulbs: 0.9998316463654902\n",
      "Probability of at most 15 defective bulbs: 0.01985837716299813\n",
      "Average number of defective bulbs expected: 25.0\n"
     ]
    }
   ],
   "source": [
    "#Ans\n",
    "#a\n",
    "import scipy.stats as stats\n",
    "\n",
    "p_defective = 0.05\n",
    "\n",
    "n_total = 500\n",
    "\n",
    "# a. Probability that exactly 20 bulbs are defective\n",
    "n_defective_a = 20\n",
    "prob_a = stats.binom.pmf(n_defective_a, n_total, p_defective)\n",
    "print(\"Probability of exactly 20 defective bulbs:\", prob_a)\n",
    "\n",
    "# b. Probability that at least 10 bulbs are defective\n",
    "n_defective_b = 10\n",
    "prob_b = 1 - stats.binom.cdf(n_defective_b - 1, n_total, p_defective)\n",
    "print(\"Probability of at least 10 defective bulbs:\", prob_b)\n",
    "\n",
    "# c. Probability that at most 15 bulbs are defective\n",
    "n_defective_c = 15\n",
    "prob_c = stats.binom.cdf(n_defective_c, n_total, p_defective)\n",
    "print(\"Probability of at most 15 defective bulbs:\", prob_c)\n",
    "\n",
    "# d. Average number of defective bulbs expected\n",
    "mean_defective = n_total * p_defective\n",
    "print(\"Average number of defective bulbs expected:\", mean_defective)"
   ]
  },
  {
   "cell_type": "markdown",
   "metadata": {},
   "source": [
    "Q-11. Given the data of a feature contributing to different classes\n",
    "https://drive.google.com/file/d/1mCjtYHiX--mMUjicuaP2gH3k-SnFxt8Y/view?usp\n",
    "=share_\n",
    "a. Check whether the distribution of all the classes are the same or not.\n",
    "b. Check for the equality of variance/\n",
    "c. Which amount LDA and QDA would perform better on this data for\n",
    "classification and why.\n",
    "d. Check the equality of mean for between all the classes."
   ]
  },
  {
   "cell_type": "code",
   "execution_count": 15,
   "metadata": {},
   "outputs": [
    {
     "ename": "AttributeError",
     "evalue": "module 'seaborn' has no attribute 'histplot'",
     "output_type": "error",
     "traceback": [
      "\u001b[1;31m---------------------------------------------------------------------------\u001b[0m",
      "\u001b[1;31mAttributeError\u001b[0m                            Traceback (most recent call last)",
      "\u001b[1;32m<ipython-input-15-77a23a09d27a>\u001b[0m in \u001b[0;36m<module>\u001b[1;34m\u001b[0m\n\u001b[0;32m      1\u001b[0m \u001b[1;32mimport\u001b[0m \u001b[0mseaborn\u001b[0m \u001b[1;32mas\u001b[0m \u001b[0msns\u001b[0m\u001b[1;33m\u001b[0m\u001b[1;33m\u001b[0m\u001b[0m\n\u001b[1;32m----> 2\u001b[1;33m \u001b[0msns\u001b[0m\u001b[1;33m.\u001b[0m\u001b[0mhistplot\u001b[0m\u001b[1;33m(\u001b[0m\u001b[0mdata\u001b[0m\u001b[1;33m)\u001b[0m\u001b[1;33m\u001b[0m\u001b[1;33m\u001b[0m\u001b[0m\n\u001b[0m",
      "\u001b[1;31mAttributeError\u001b[0m: module 'seaborn' has no attribute 'histplot'"
     ]
    }
   ],
   "source": [
    "import seaborn as sns\n",
    "sns.histplot(data)"
   ]
  },
  {
   "cell_type": "markdown",
   "metadata": {},
   "source": [
    "Q-12. A pharmaceutical company develops a new drug and wants to compare its\n",
    "effectiveness against a standard drug for treating a particular condition. They conduct a\n",
    "study with two groups: Group A receives the new drug, and Group B receives the standard\n",
    "drug. The company measures the improvement in a specific symptom for both groups after\n",
    "a 4-week treatment period.\n",
    "a. The company collects data from 30 patients in each group and calculates the\n",
    "mean improvement score and the standard deviation of improvement for each\n",
    "group. The mean improvement score for Group A is 2.5 with a standard\n",
    "deviation of 0.8, while the mean improvement score for Group B is 2.2 with a\n",
    "standard deviation of 0.6. Conduct a t-test to determine if there is a significant\n",
    "difference in the mean improvement scores between the two groups. Use a\n",
    "significance level of 0.05.\n",
    "b. Based on the t-test results, state whether the null hypothesis should be\n",
    "rejected or not. Provide a conclusion in the context of the study."
   ]
  },
  {
   "cell_type": "code",
   "execution_count": 17,
   "metadata": {},
   "outputs": [
    {
     "name": "stdout",
     "output_type": "stream",
     "text": [
      "Fail to reject the null hypothesis.\n",
      "There is no significant difference in the mean improvement scores between Group A and Group B.\n",
      "t-statistic: 1.6431676725154976\n",
      "p-value: 0.10575916705583671\n"
     ]
    }
   ],
   "source": [
    "import scipy.stats as stats\n",
    "\n",
    "mean_A = 2.5\n",
    "std_dev_A = 0.8\n",
    "n_A = 30\n",
    "\n",
    "mean_B = 2.2\n",
    "std_dev_B = 0.6\n",
    "n_B = 30\n",
    "\n",
    "t_stat, p_value = stats.ttest_ind_from_stats(mean_A, std_dev_A, n_A, mean_B, std_dev_B, n_B)\n",
    "\n",
    "alpha = 0.05\n",
    "if p_value < alpha:\n",
    "    print(\"Reject the null hypothesis.\")\n",
    "    print(\"There is a significant difference in the mean improvement scores between Group A and Group B.\")\n",
    "else:\n",
    "    print(\"Fail to reject the null hypothesis.\")\n",
    "    print(\"There is no significant difference in the mean improvement scores between Group A and Group B.\")\n",
    "\n",
    "print(\"t-statistic:\", t_stat)\n",
    "print(\"p-value:\", p_value)"
   ]
  }
 ],
 "metadata": {
  "kernelspec": {
   "display_name": "Python 3",
   "language": "python",
   "name": "python3"
  },
  "language_info": {
   "codemirror_mode": {
    "name": "ipython",
    "version": 3
   },
   "file_extension": ".py",
   "mimetype": "text/x-python",
   "name": "python",
   "nbconvert_exporter": "python",
   "pygments_lexer": "ipython3",
   "version": "3.7.6"
  }
 },
 "nbformat": 4,
 "nbformat_minor": 4
}
